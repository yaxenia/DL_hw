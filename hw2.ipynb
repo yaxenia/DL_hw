{
  "nbformat": 4,
  "nbformat_minor": 0,
  "metadata": {
    "colab": {
      "name": "hw2.ipynb",
      "provenance": []
    },
    "kernelspec": {
      "name": "python3",
      "display_name": "Python 3"
    },
    "accelerator": "GPU"
  },
  "cells": [
    {
      "cell_type": "code",
      "metadata": {
        "id": "jTPCSoyKKYsk"
      },
      "source": [
        "import torch\n",
        "import numpy as np\n",
        "import torchvision\n",
        "import torchvision.transforms as transforms\n",
        "import matplotlib.pyplot as plt\n",
        "import cv2\n",
        "from sklearn.model_selection import train_test_split\n",
        "import os\n",
        "%matplotlib inline\n"
      ],
      "execution_count": 2,
      "outputs": []
    },
    {
      "cell_type": "code",
      "metadata": {
        "colab": {
          "base_uri": "https://localhost:8080/"
        },
        "id": "tkQYMGstSPZV",
        "outputId": "fd4251fc-0906-4550-cd5c-41104fac51db"
      },
      "source": [
        "from google.colab import drive\n",
        "drive.mount('/content/gdrive')"
      ],
      "execution_count": 3,
      "outputs": [
        {
          "output_type": "stream",
          "text": [
            "Mounted at /content/gdrive\n"
          ],
          "name": "stdout"
        }
      ]
    },
    {
      "cell_type": "code",
      "metadata": {
        "id": "6IMJFuXFSqlR"
      },
      "source": [
        "path = '/content/gdrive/MyDrive/lesson1_dataset'"
      ],
      "execution_count": 4,
      "outputs": []
    },
    {
      "cell_type": "code",
      "metadata": {
        "id": "qkLPideu7rJ4"
      },
      "source": [
        "def read_files(X, Y, path, ans):\n",
        "  files = os.listdir(path)\n",
        "  for name in files:\n",
        "    img = cv2.imread(path + '/' + name, 0)\n",
        "    if img.shape != 0:\n",
        "      img = cv2.resize(img, (256, 256))\n",
        "      vect = img.reshape(1, 256 ** 2)\n",
        "      vect = vect / 255.\n",
        "      X = vect if (X is None) else np.vstack((X, vect)) \n",
        "      Y = np.append(Y, ans)\n",
        "  return X, Y"
      ],
      "execution_count": 5,
      "outputs": []
    },
    {
      "cell_type": "code",
      "metadata": {
        "id": "cT7B3gAe7vab"
      },
      "source": [
        "X = None\n",
        "Y = np.array([])\n",
        "X, Y = read_files(X, Y, path + \"/logloss_0\", 0)\n",
        "X, Y = read_files(X, Y, path + \"/logloss_1\", 1)"
      ],
      "execution_count": 6,
      "outputs": []
    },
    {
      "cell_type": "code",
      "metadata": {
        "id": "iSTVEuVhh0nF"
      },
      "source": [
        "X_train, X_test, Y_train, Y_test = train_test_split( X, Y, test_size=0.30, random_state=42)"
      ],
      "execution_count": 7,
      "outputs": []
    },
    {
      "cell_type": "code",
      "metadata": {
        "id": "O11n1uJyKsWi"
      },
      "source": [
        "class Dataset(torch.utils.data.Dataset):\n",
        "  def __init__(self, X,Y):\n",
        "        self.X = X\n",
        "        self.Y = Y\n",
        "\n",
        "  def __len__(self):\n",
        "    #num = sum(os.path.isfile(os.path.join(self.path, f)) for f in os.listdir(self.path + \"/logloss_0\"))\n",
        "    return len(self.X)\n",
        "\n",
        "  def __getitem__(self, index):\n",
        "    x1 = torch.tensor(self.X[index], dtype = torch.float32)\n",
        "    y1 = torch.tensor(self.Y[index], dtype = torch.float32)\n",
        "    return (x1,y1)"
      ],
      "execution_count": 8,
      "outputs": []
    },
    {
      "cell_type": "code",
      "metadata": {
        "id": "3ODEAmRziGev"
      },
      "source": [
        "train_set = Dataset(X_train,Y_train)\n",
        "\n",
        "Loader_train = torch.utils.data.DataLoader(train_set,batch_size=128, shuffle=True)"
      ],
      "execution_count": 9,
      "outputs": []
    },
    {
      "cell_type": "code",
      "metadata": {
        "id": "8BaoeNmUhS5L"
      },
      "source": [
        "test_set = Dataset(X_test,Y_test)\n",
        "\n",
        "Loader_test = torch.utils.data.DataLoader(test_set,batch_size=128, shuffle=True)"
      ],
      "execution_count": 10,
      "outputs": []
    },
    {
      "cell_type": "code",
      "metadata": {
        "colab": {
          "base_uri": "https://localhost:8080/"
        },
        "id": "Za9e1LSZ9-jK",
        "outputId": "8768edc5-21c3-4fd9-a7ad-0ed81ed49d38"
      },
      "source": [
        "for x,y in Loader_train:\n",
        "  print(x.view(x.shape[0], -1).shape, y.shape)\n",
        "  break"
      ],
      "execution_count": 11,
      "outputs": [
        {
          "output_type": "stream",
          "text": [
            "torch.Size([45, 65536]) torch.Size([45])\n"
          ],
          "name": "stdout"
        }
      ]
    },
    {
      "cell_type": "code",
      "metadata": {
        "colab": {
          "base_uri": "https://localhost:8080/"
        },
        "id": "ebk9jTcCtZj8",
        "outputId": "34ff8566-eb36-4cfc-c505-5f9c01bdaf64"
      },
      "source": [
        "for x,y in Loader_test:\n",
        "  print(x.view(x.shape[0], -1).shape, y.shape)\n",
        "  break"
      ],
      "execution_count": 12,
      "outputs": [
        {
          "output_type": "stream",
          "text": [
            "torch.Size([20, 65536]) torch.Size([20])\n"
          ],
          "name": "stdout"
        }
      ]
    },
    {
      "cell_type": "code",
      "metadata": {
        "id": "UJr3nZk0-1OJ"
      },
      "source": [
        "import torch.nn as nn"
      ],
      "execution_count": 13,
      "outputs": []
    },
    {
      "cell_type": "code",
      "metadata": {
        "id": "6EnwesjQG7jn"
      },
      "source": [
        "model = nn.Sequential(\n",
        "    nn.Linear(65536, 5000),\n",
        "    nn.BatchNorm1d(5000),\n",
        "    nn.Dropout(0.5),\n",
        "    nn.ReLU(),\n",
        "    nn.Linear(5000, 2000),\n",
        "    nn.BatchNorm1d(2000),\n",
        "    nn.ReLU(),\n",
        "    nn.Linear(2000, 2000),\n",
        "    nn.BatchNorm1d(2000),\n",
        "    nn.ReLU(),\n",
        "    nn.Linear(2000,2000),\n",
        "    nn.BatchNorm1d(2000),\n",
        "    nn.Dropout(0.5),\n",
        "    nn.ReLU(),\n",
        "    nn.Linear(2000, 10),\n",
        "    nn.Softmax()\n",
        ")"
      ],
      "execution_count": 14,
      "outputs": []
    },
    {
      "cell_type": "code",
      "metadata": {
        "id": "tJMClxzH1HPq",
        "colab": {
          "base_uri": "https://localhost:8080/"
        },
        "outputId": "3e620dd3-a787-40f6-cb68-81b975864ad8"
      },
      "source": [
        "model.cuda()"
      ],
      "execution_count": 15,
      "outputs": [
        {
          "output_type": "execute_result",
          "data": {
            "text/plain": [
              "Sequential(\n",
              "  (0): Linear(in_features=65536, out_features=5000, bias=True)\n",
              "  (1): BatchNorm1d(5000, eps=1e-05, momentum=0.1, affine=True, track_running_stats=True)\n",
              "  (2): Dropout(p=0.5, inplace=False)\n",
              "  (3): ReLU()\n",
              "  (4): Linear(in_features=5000, out_features=2000, bias=True)\n",
              "  (5): BatchNorm1d(2000, eps=1e-05, momentum=0.1, affine=True, track_running_stats=True)\n",
              "  (6): ReLU()\n",
              "  (7): Linear(in_features=2000, out_features=2000, bias=True)\n",
              "  (8): BatchNorm1d(2000, eps=1e-05, momentum=0.1, affine=True, track_running_stats=True)\n",
              "  (9): ReLU()\n",
              "  (10): Linear(in_features=2000, out_features=2000, bias=True)\n",
              "  (11): BatchNorm1d(2000, eps=1e-05, momentum=0.1, affine=True, track_running_stats=True)\n",
              "  (12): Dropout(p=0.5, inplace=False)\n",
              "  (13): ReLU()\n",
              "  (14): Linear(in_features=2000, out_features=10, bias=True)\n",
              "  (15): Softmax(dim=None)\n",
              ")"
            ]
          },
          "metadata": {
            "tags": []
          },
          "execution_count": 15
        }
      ]
    },
    {
      "cell_type": "code",
      "metadata": {
        "id": "_JGH2k53-9_d"
      },
      "source": [
        "criterion = nn.CrossEntropyLoss()\n",
        "optimizer = torch.optim.Adam(model.parameters(), lr=1e-3)"
      ],
      "execution_count": 16,
      "outputs": []
    },
    {
      "cell_type": "code",
      "metadata": {
        "id": "CdwcSb_wy31A",
        "colab": {
          "base_uri": "https://localhost:8080/"
        },
        "outputId": "ebf49429-3d79-4aa8-e2a7-aec05171666a"
      },
      "source": [
        "epochs = 20\n",
        "for i in range(epochs):\n",
        "    for j, (x, y) in enumerate(Loader_train):\n",
        "        model.train()\n",
        "        optimizer.zero_grad()\n",
        "        x = x.view(x.shape[0], -1)\n",
        "        x = x.cuda()\n",
        "        y = y.cuda()\n",
        "        y_pred = model(x)\n",
        "        loss = criterion(y_pred, y.long())\n",
        "        accuracy = (torch.argmax(y_pred.detach().cpu(),1)== y.cpu()).sum()/len(y)\n",
        "        print(\"TRAIN\")\n",
        "        print(f\"Epoch {i}\\t iter {j}\\t loss {loss}\\t accuracy {accuracy}\")\n",
        "        loss.backward()\n",
        "        optimizer.step()\n",
        "    with torch.no_grad():\n",
        "      for j, (x, y) in enumerate(Loader_test):\n",
        "            model.eval()\n",
        "            optimizer.zero_grad()\n",
        "            x = x.cuda()\n",
        "            y = y.cuda()\n",
        "            y_pred = model(x)\n",
        "            loss = criterion(y_pred, y.long())\n",
        "            accuracy = (torch.argmax(y_pred.detach().cpu(),1)== y.cpu()).sum()/len(y)\n",
        "            print(\"TEST\")\n",
        "            print(f\"Epoch {i}\\t iter {j}\\t loss {loss}\\t test_accuracy {accuracy}\")\n",
        "            optimizer.step()"
      ],
      "execution_count": 18,
      "outputs": [
        {
          "output_type": "stream",
          "text": [
            "/usr/local/lib/python3.6/dist-packages/torch/nn/modules/container.py:117: UserWarning: Implicit dimension choice for softmax has been deprecated. Change the call to include dim=X as an argument.\n",
            "  input = module(input)\n"
          ],
          "name": "stderr"
        },
        {
          "output_type": "stream",
          "text": [
            "TRAIN\n",
            "Epoch 0\t iter 0\t loss 1.4613724946975708\t accuracy 1.0\n",
            "TEST\n",
            "Epoch 0\t iter 0\t loss 1.6455729007720947\t test_accuracy 0.800000011920929\n",
            "TRAIN\n",
            "Epoch 1\t iter 0\t loss 1.461212158203125\t accuracy 1.0\n",
            "TEST\n",
            "Epoch 1\t iter 0\t loss 1.6337506771087646\t test_accuracy 0.800000011920929\n",
            "TRAIN\n",
            "Epoch 2\t iter 0\t loss 1.4612118005752563\t accuracy 1.0\n",
            "TEST\n",
            "Epoch 2\t iter 0\t loss 1.6041405200958252\t test_accuracy 0.8500000238418579\n",
            "TRAIN\n",
            "Epoch 3\t iter 0\t loss 1.461253046989441\t accuracy 1.0\n",
            "TEST\n",
            "Epoch 3\t iter 0\t loss 1.5867446660995483\t test_accuracy 0.8999999761581421\n",
            "TRAIN\n",
            "Epoch 4\t iter 0\t loss 1.4611880779266357\t accuracy 1.0\n",
            "TEST\n",
            "Epoch 4\t iter 0\t loss 1.5820271968841553\t test_accuracy 0.8999999761581421\n",
            "TRAIN\n",
            "Epoch 5\t iter 0\t loss 1.4611903429031372\t accuracy 1.0\n",
            "TEST\n",
            "Epoch 5\t iter 0\t loss 1.5805165767669678\t test_accuracy 0.8999999761581421\n",
            "TRAIN\n",
            "Epoch 6\t iter 0\t loss 1.46120023727417\t accuracy 1.0\n",
            "TEST\n",
            "Epoch 6\t iter 0\t loss 1.5794689655303955\t test_accuracy 0.8999999761581421\n",
            "TRAIN\n",
            "Epoch 7\t iter 0\t loss 1.4611635208129883\t accuracy 1.0\n",
            "TEST\n",
            "Epoch 7\t iter 0\t loss 1.5793415307998657\t test_accuracy 0.8999999761581421\n",
            "TRAIN\n",
            "Epoch 8\t iter 0\t loss 1.461241364479065\t accuracy 1.0\n",
            "TEST\n",
            "Epoch 8\t iter 0\t loss 1.579505443572998\t test_accuracy 0.8999999761581421\n",
            "TRAIN\n",
            "Epoch 9\t iter 0\t loss 1.461193323135376\t accuracy 1.0\n",
            "TEST\n",
            "Epoch 9\t iter 0\t loss 1.5800464153289795\t test_accuracy 0.8999999761581421\n",
            "TRAIN\n",
            "Epoch 10\t iter 0\t loss 1.4611612558364868\t accuracy 1.0\n",
            "TEST\n",
            "Epoch 10\t iter 0\t loss 1.5809199810028076\t test_accuracy 0.8999999761581421\n",
            "TRAIN\n",
            "Epoch 11\t iter 0\t loss 1.461180567741394\t accuracy 1.0\n",
            "TEST\n",
            "Epoch 11\t iter 0\t loss 1.580946445465088\t test_accuracy 0.8999999761581421\n",
            "TRAIN\n",
            "Epoch 12\t iter 0\t loss 1.461176872253418\t accuracy 1.0\n",
            "TEST\n",
            "Epoch 12\t iter 0\t loss 1.5813909769058228\t test_accuracy 0.8999999761581421\n",
            "TRAIN\n",
            "Epoch 13\t iter 0\t loss 1.4612281322479248\t accuracy 1.0\n",
            "TEST\n",
            "Epoch 13\t iter 0\t loss 1.5822601318359375\t test_accuracy 0.8999999761581421\n",
            "TRAIN\n",
            "Epoch 14\t iter 0\t loss 1.4615421295166016\t accuracy 1.0\n",
            "TEST\n",
            "Epoch 14\t iter 0\t loss 1.5837681293487549\t test_accuracy 0.8999999761581421\n",
            "TRAIN\n",
            "Epoch 15\t iter 0\t loss 1.4611715078353882\t accuracy 1.0\n",
            "TEST\n",
            "Epoch 15\t iter 0\t loss 1.5852068662643433\t test_accuracy 0.8500000238418579\n",
            "TRAIN\n",
            "Epoch 16\t iter 0\t loss 1.4612776041030884\t accuracy 1.0\n",
            "TEST\n",
            "Epoch 16\t iter 0\t loss 1.5864301919937134\t test_accuracy 0.8500000238418579\n",
            "TRAIN\n",
            "Epoch 17\t iter 0\t loss 1.4611989259719849\t accuracy 1.0\n",
            "TEST\n",
            "Epoch 17\t iter 0\t loss 1.5875344276428223\t test_accuracy 0.8500000238418579\n",
            "TRAIN\n",
            "Epoch 18\t iter 0\t loss 1.4611691236495972\t accuracy 1.0\n",
            "TEST\n",
            "Epoch 18\t iter 0\t loss 1.588563323020935\t test_accuracy 0.8500000238418579\n",
            "TRAIN\n",
            "Epoch 19\t iter 0\t loss 1.4611800909042358\t accuracy 1.0\n",
            "TEST\n",
            "Epoch 19\t iter 0\t loss 1.5895494222640991\t test_accuracy 0.8500000238418579\n"
          ],
          "name": "stdout"
        }
      ]
    }
  ]
}